{
 "cells": [
  {
   "cell_type": "markdown",
   "id": "df0d234f-1e1a-4495-8208-e177e7f527aa",
   "metadata": {},
   "source": [
    "Complete the exercises below For **Assignment #2**."
   ]
  },
  {
   "cell_type": "markdown",
   "id": "8b703928-3ba6-4f4d-a212-2eaeb1d5ef90",
   "metadata": {},
   "source": [
    "First, load the `Tidyverse` package which imports data visualization and wrangling libraries that we need."
   ]
  },
  {
   "cell_type": "code",
   "execution_count": 1,
   "id": "9dbc1d3b-93c7-42c4-b485-08ceb7265ae6",
   "metadata": {},
   "outputs": [
    {
     "name": "stderr",
     "output_type": "stream",
     "text": [
      "── \u001b[1mAttaching core tidyverse packages\u001b[22m ──────────────────────────────────────────────────────────────── tidyverse 2.0.0 ──\n",
      "\u001b[32m✔\u001b[39m \u001b[34mdplyr    \u001b[39m 1.1.4     \u001b[32m✔\u001b[39m \u001b[34mreadr    \u001b[39m 2.1.5\n",
      "\u001b[32m✔\u001b[39m \u001b[34mforcats  \u001b[39m 1.0.0     \u001b[32m✔\u001b[39m \u001b[34mstringr  \u001b[39m 1.5.1\n",
      "\u001b[32m✔\u001b[39m \u001b[34mggplot2  \u001b[39m 3.5.2     \u001b[32m✔\u001b[39m \u001b[34mtibble   \u001b[39m 3.2.1\n",
      "\u001b[32m✔\u001b[39m \u001b[34mlubridate\u001b[39m 1.9.4     \u001b[32m✔\u001b[39m \u001b[34mtidyr    \u001b[39m 1.3.1\n",
      "\u001b[32m✔\u001b[39m \u001b[34mpurrr    \u001b[39m 1.0.4     \n",
      "── \u001b[1mConflicts\u001b[22m ────────────────────────────────────────────────────────────────────────────────── tidyverse_conflicts() ──\n",
      "\u001b[31m✖\u001b[39m \u001b[34mdplyr\u001b[39m::\u001b[32mfilter()\u001b[39m masks \u001b[34mstats\u001b[39m::filter()\n",
      "\u001b[31m✖\u001b[39m \u001b[34mdplyr\u001b[39m::\u001b[32mlag()\u001b[39m    masks \u001b[34mstats\u001b[39m::lag()\n",
      "\u001b[36mℹ\u001b[39m Use the conflicted package (\u001b[3m\u001b[34m<http://conflicted.r-lib.org/>\u001b[39m\u001b[23m) to force all conflicts to become errors\n"
     ]
    }
   ],
   "source": [
    "# uncomment the code below and execute this cell\n",
    "library('tidyverse')"
   ]
  },
  {
   "cell_type": "markdown",
   "id": "491479b3-29cb-4a7f-91a8-b127515f50c4",
   "metadata": {},
   "source": [
    "If you are unable to load the `Tidyverse` package, you may not have it installed. Please refer to the assignment `README` for instructions to update your `data730` environment to include the `Tidyverse` package."
   ]
  },
  {
   "cell_type": "markdown",
   "id": "d073157d-f73b-4db8-85f3-e4fb3641dd23",
   "metadata": {},
   "source": [
    "## Data visualization"
   ]
  },
  {
   "cell_type": "markdown",
   "id": "73c5c496-4a90-4c65-93f8-e9121564e8b6",
   "metadata": {},
   "source": [
    "Let's work with the [Palmer Penguins data](https://allisonhorst.github.io/palmerpenguins/)."
   ]
  },
  {
   "cell_type": "code",
   "execution_count": 2,
   "id": "6382a53a-bcca-4111-a1e2-58aeda6ebd29",
   "metadata": {},
   "outputs": [
    {
     "name": "stderr",
     "output_type": "stream",
     "text": [
      "\n",
      "Attaching package: 'palmerpenguins'\n",
      "\n",
      "\n",
      "The following objects are masked from 'package:datasets':\n",
      "\n",
      "    penguins, penguins_raw\n",
      "\n",
      "\n"
     ]
    },
    {
     "name": "stdout",
     "output_type": "stream",
     "text": [
      "Rows: 344\n",
      "Columns: 8\n",
      "$ species           \u001b[3m\u001b[90m<fct>\u001b[39m\u001b[23m Adelie\u001b[90m, \u001b[39mAdelie\u001b[90m, \u001b[39mAdelie\u001b[90m, \u001b[39mAdelie\u001b[90m, \u001b[39mAdelie\u001b[90m, \u001b[39mAdelie\u001b[90m, \u001b[39mAdel…\n",
      "$ island            \u001b[3m\u001b[90m<fct>\u001b[39m\u001b[23m Torgersen\u001b[90m, \u001b[39mTorgersen\u001b[90m, \u001b[39mTorgersen\u001b[90m, \u001b[39mTorgersen\u001b[90m, \u001b[39mTorgerse…\n",
      "$ bill_length_mm    \u001b[3m\u001b[90m<dbl>\u001b[39m\u001b[23m 39.1\u001b[90m, \u001b[39m39.5\u001b[90m, \u001b[39m40.3\u001b[90m, \u001b[39m\u001b[31mNA\u001b[39m\u001b[90m, \u001b[39m36.7\u001b[90m, \u001b[39m39.3\u001b[90m, \u001b[39m38.9\u001b[90m, \u001b[39m39.2\u001b[90m, \u001b[39m34.1\u001b[90m, \u001b[39m…\n",
      "$ bill_depth_mm     \u001b[3m\u001b[90m<dbl>\u001b[39m\u001b[23m 18.7\u001b[90m, \u001b[39m17.4\u001b[90m, \u001b[39m18.0\u001b[90m, \u001b[39m\u001b[31mNA\u001b[39m\u001b[90m, \u001b[39m19.3\u001b[90m, \u001b[39m20.6\u001b[90m, \u001b[39m17.8\u001b[90m, \u001b[39m19.6\u001b[90m, \u001b[39m18.1\u001b[90m, \u001b[39m…\n",
      "$ flipper_length_mm \u001b[3m\u001b[90m<int>\u001b[39m\u001b[23m 181\u001b[90m, \u001b[39m186\u001b[90m, \u001b[39m195\u001b[90m, \u001b[39m\u001b[31mNA\u001b[39m\u001b[90m, \u001b[39m193\u001b[90m, \u001b[39m190\u001b[90m, \u001b[39m181\u001b[90m, \u001b[39m195\u001b[90m, \u001b[39m193\u001b[90m, \u001b[39m190\u001b[90m, \u001b[39m186…\n",
      "$ body_mass_g       \u001b[3m\u001b[90m<int>\u001b[39m\u001b[23m 3750\u001b[90m, \u001b[39m3800\u001b[90m, \u001b[39m3250\u001b[90m, \u001b[39m\u001b[31mNA\u001b[39m\u001b[90m, \u001b[39m3450\u001b[90m, \u001b[39m3650\u001b[90m, \u001b[39m3625\u001b[90m, \u001b[39m4675\u001b[90m, \u001b[39m3475\u001b[90m, \u001b[39m…\n",
      "$ sex               \u001b[3m\u001b[90m<fct>\u001b[39m\u001b[23m male\u001b[90m, \u001b[39mfemale\u001b[90m, \u001b[39mfemale\u001b[90m, \u001b[39m\u001b[31mNA\u001b[39m\u001b[90m, \u001b[39mfemale\u001b[90m, \u001b[39mmale\u001b[90m, \u001b[39mfemale\u001b[90m, \u001b[39mmale…\n",
      "$ year              \u001b[3m\u001b[90m<int>\u001b[39m\u001b[23m 2007\u001b[90m, \u001b[39m2007\u001b[90m, \u001b[39m2007\u001b[90m, \u001b[39m2007\u001b[90m, \u001b[39m2007\u001b[90m, \u001b[39m2007\u001b[90m, \u001b[39m2007\u001b[90m, \u001b[39m2007\u001b[90m, \u001b[39m2007…\n"
     ]
    }
   ],
   "source": [
    "# uncomment the code below and execute this cell\n",
    "library('palmerpenguins')\n",
    "glimpse(penguins)"
   ]
  },
  {
   "cell_type": "markdown",
   "id": "34864040-9f5d-418b-8876-87f3c0fafd47",
   "metadata": {},
   "source": [
    "We now have a data frame called `penguins` available. Use this table for the following exercises."
   ]
  },
  {
   "cell_type": "markdown",
   "id": "7c5fd7a4-9d53-4791-83fc-bebe0ce85b3f",
   "metadata": {},
   "source": [
    "### Bar chart"
   ]
  },
  {
   "cell_type": "markdown",
   "id": "ea10b81d-076c-45d8-b5dd-345fcf60a1e1",
   "metadata": {},
   "source": [
    "In the cell below make a bar chart that shows how many penguins are in the data from each island. Encode the penguin species as the `fill` attribute of the bars."
   ]
  },
  {
   "cell_type": "code",
   "execution_count": 3,
   "id": "8531f480-6819-40dc-b2ae-80d9c0465189",
   "metadata": {},
   "outputs": [
    {
     "data": {
      "image/png": "[encoded data removed]",
      "text/plain": [
       "plot without title"
      ]
     },
     "metadata": {
      "image/png": {
       "height": 500,
       "width": 625
      }
     },
     "output_type": "display_data"
    }
   ],
   "source": [
    "penguins |>\n",
    "  group_by(island) |>\n",
    "  summarize(num_penguins = n())  |>\n",
    "  ggplot(aes(island, num_penguins)) +\n",
    "  geom_col()"
   ]
  },
  {
   "cell_type": "markdown",
   "id": "f26fc608-2e43-4148-bad1-343d44c639f9",
   "metadata": {},
   "source": [
    "**In which islands were *Adelie* penguins observed?** Answer using a [markdown list](https://www.markdownguide.org/basic-syntax/#lists-1) in the cell below. \n",
    "\n",
    "⚠️ Remember to switch the cell type to `Markdown`."
   ]
  },
  {
   "cell_type": "code",
   "execution_count": 4,
   "id": "b3fd2744-a99d-47d4-ad3b-ebc052b2b47d",
   "metadata": {},
   "outputs": [
    {
     "data": {
      "text/html": [
       "<table class=\"dataframe\">\n",
       "<caption>A tibble: 3 × 2</caption>\n",
       "<thead>\n",
       "\t<tr><th scope=col>island</th><th scope=col>count</th></tr>\n",
       "\t<tr><th scope=col>&lt;fct&gt;</th><th scope=col>&lt;int&gt;</th></tr>\n",
       "</thead>\n",
       "<tbody>\n",
       "\t<tr><td>Biscoe   </td><td>44</td></tr>\n",
       "\t<tr><td>Dream    </td><td>56</td></tr>\n",
       "\t<tr><td>Torgersen</td><td>52</td></tr>\n",
       "</tbody>\n",
       "</table>\n"
      ],
      "text/latex": [
       "A tibble: 3 × 2\n",
       "\\begin{tabular}{ll}\n",
       " island & count\\\\\n",
       " <fct> & <int>\\\\\n",
       "\\hline\n",
       "\t Biscoe    & 44\\\\\n",
       "\t Dream     & 56\\\\\n",
       "\t Torgersen & 52\\\\\n",
       "\\end{tabular}\n"
      ],
      "text/markdown": [
       "\n",
       "A tibble: 3 × 2\n",
       "\n",
       "| island &lt;fct&gt; | count &lt;int&gt; |\n",
       "|---|---|\n",
       "| Biscoe    | 44 |\n",
       "| Dream     | 56 |\n",
       "| Torgersen | 52 |\n",
       "\n"
      ],
      "text/plain": [
       "  island    count\n",
       "1 Biscoe    44   \n",
       "2 Dream     56   \n",
       "3 Torgersen 52   "
      ]
     },
     "metadata": {},
     "output_type": "display_data"
    }
   ],
   "source": [
    "penguins |>\n",
    "  filter(species == 'Adelie') |>\n",
    "  group_by(island) |>\n",
    "  summarize(count = n())"
   ]
  },
  {
   "cell_type": "markdown",
   "id": "c565ad7f-e225-49ca-b89e-b1417dc0a0e8",
   "metadata": {},
   "source": [
    "> **Matt's Response:**\n",
    ">\n",
    "> Looks like the Adelie penguins can be observed on all 3 islands:\n",
    "> 1. Biscoe\n",
    "> 2. Dream\n",
    "> 3. Torgersen"
   ]
  },
  {
   "cell_type": "markdown",
   "id": "5b94df58-517e-461c-a73c-d5294320650f",
   "metadata": {},
   "source": [
    "### Scatter chart"
   ]
  },
  {
   "cell_type": "markdown",
   "id": "73843967-6908-45e4-bb6a-48803112a46f",
   "metadata": {},
   "source": [
    "Make a scatter chart of bill depth versus bill length. Color the points by penguin species. Add a `scale` modification to your chart to adjust the color palette (e.g. add `scale_color_brewer(palette = \"Set2\")`)."
   ]
  },
  {
   "cell_type": "code",
   "execution_count": 5,
   "id": "c0ad6a0e-b113-44b3-8fdc-4a034ec24872",
   "metadata": {},
   "outputs": [
    {
     "name": "stderr",
     "output_type": "stream",
     "text": [
      "Warning message:\n",
      "\"\u001b[1m\u001b[22mRemoved 2 rows containing missing values or values outside the scale range (`geom_point()`).\"\n"
     ]
    },
    {
     "data": {
      "image/png": "[encoded data removed]",
      "text/plain": [
       "plot without title"
      ]
     },
     "metadata": {
      "image/png": {
       "height": 500,
       "width": 625
      }
     },
     "output_type": "display_data"
    }
   ],
   "source": [
    "ggplot(penguins, aes(bill_length_mm, bill_depth_mm, color = species)) +\n",
    "  geom_point() +\n",
    "  scale_color_brewer(palette = \"Set2\")"
   ]
  },
  {
   "cell_type": "markdown",
   "id": "40819f31-256f-480e-b698-e67fd97a1f37",
   "metadata": {},
   "source": [
    "### Histogram"
   ]
  },
  {
   "cell_type": "markdown",
   "id": "fdcf1e1b-1a5b-40e6-9a2b-8294dc7c6c51",
   "metadata": {},
   "source": [
    "Make a histogram of penguin body mass. \n",
    "- Facet your chart by the `sex` column using the `facet_wrap` function and setting the `ncol` parameter to `1`.\n",
    "- In your `geom_histogram` layer, set the `position` argument to `\"identity\"` and set `alpha`to a value between `0` and `1`.\n",
    "- Map penguin species to the `fill` property.\n",
    "- Adjust the `fill` scale palette similarly to how we adjusted the `color` scale palette above. I.e. change to the [ColorBrewer](https://colorbrewer2.org/) `\"Set2\"` palette."
   ]
  },
  {
   "cell_type": "code",
   "execution_count": null,
   "id": "875a9e9b-89b0-49ec-925b-1d828671fc70",
   "metadata": {},
   "outputs": [],
   "source": [
    "glimpse(penguins)"
   ]
  },
  {
   "cell_type": "code",
   "execution_count": 6,
   "id": "c433f569-33c9-4db1-936a-501e32a02f76",
   "metadata": {},
   "outputs": [
    {
     "name": "stderr",
     "output_type": "stream",
     "text": [
      "\u001b[1m\u001b[22m`stat_bin()` using `bins = 30`. Pick better value with `binwidth`.\n",
      "Warning message:\n",
      "\"\u001b[1m\u001b[22mRemoved 2 rows containing non-finite outside the scale range (`stat_bin()`).\"\n"
     ]
    },
    {
     "data": {
      "image/png": "[encoded data removed]",
      "text/plain": [
       "plot without title"
      ]
     },
     "metadata": {
      "image/png": {
       "height": 500,
       "width": 625
      }
     },
     "output_type": "display_data"
    }
   ],
   "source": [
    "ggplot(penguins, aes(body_mass_g, fill = species)) +\n",
    "  geom_histogram(position = 'identity', alpha = 0.5) +\n",
    "  facet_wrap('sex', ncol = 1) +\n",
    "  scale_color_brewer(palette = \"Set2\")"
   ]
  },
  {
   "cell_type": "markdown",
   "id": "854017b3-f7ad-4f2d-a325-f1f4a49795ad",
   "metadata": {},
   "source": [
    "What happens when you don't have `position = \"identity\"` in your `geom_histogram` layer? Answer below in a `Markdown` cell."
   ]
  },
  {
   "cell_type": "code",
   "execution_count": 7,
   "id": "bb85c4c6-6802-464b-8a0e-212966f4ad71",
   "metadata": {},
   "outputs": [
    {
     "name": "stderr",
     "output_type": "stream",
     "text": [
      "\u001b[1m\u001b[22m`stat_bin()` using `bins = 30`. Pick better value with `binwidth`.\n",
      "Warning message:\n",
      "\"\u001b[1m\u001b[22mRemoved 2 rows containing non-finite outside the scale range (`stat_bin()`).\"\n"
     ]
    },
    {
     "data": {
      "image/png": "[encoded data removed]",
      "text/plain": [
       "plot without title"
      ]
     },
     "metadata": {
      "image/png": {
       "height": 500,
       "width": 625
      }
     },
     "output_type": "display_data"
    }
   ],
   "source": [
    "ggplot(penguins, aes(body_mass_g, fill = species)) +\n",
    "  geom_histogram(alpha = 0.5) +\n",
    "  facet_wrap('sex', ncol = 1) +\n",
    "  scale_color_brewer(palette = \"Set2\")"
   ]
  },
  {
   "cell_type": "markdown",
   "id": "0d637c52-e416-4e5a-a0f7-9170fba56eb2",
   "metadata": {},
   "source": [
    "> **Matt's Response:**\n",
    ">\n",
    "> It look slike it's trying to stack the bars on top of each other when they're\n",
    "> in different species, when we omit the `position = 'identity'` argument."
   ]
  },
  {
   "cell_type": "markdown",
   "id": "a8051b80-c2bf-4dcc-a5aa-4f2b1f27d417",
   "metadata": {},
   "source": [
    "## Data wrangling"
   ]
  },
  {
   "cell_type": "markdown",
   "id": "4f29afa6-9168-4227-8301-283f4080117c",
   "metadata": {},
   "source": [
    "First we are going to bring in a data set to practice with called `txhousing`. You can find some information about `txhousing` [here](https://ggplot2.tidyverse.org/reference/txhousing.html)."
   ]
  },
  {
   "cell_type": "code",
   "execution_count": 9,
   "id": "579bef17-cd8c-4c8d-a4a1-f1850bf3a142",
   "metadata": {},
   "outputs": [
    {
     "name": "stdout",
     "output_type": "stream",
     "text": [
      "Rows: 8,602\n",
      "Columns: 9\n",
      "$ city      \u001b[3m\u001b[90m<chr>\u001b[39m\u001b[23m \"Abilene\"\u001b[90m, \u001b[39m\"Abilene\"\u001b[90m, \u001b[39m\"Abilene\"\u001b[90m, \u001b[39m\"Abilene\"\u001b[90m, \u001b[39m\"Abilene\"\u001b[90m, \u001b[39m\"Abil…\n",
      "$ year      \u001b[3m\u001b[90m<int>\u001b[39m\u001b[23m 2000\u001b[90m, \u001b[39m2000\u001b[90m, \u001b[39m2000\u001b[90m, \u001b[39m2000\u001b[90m, \u001b[39m2000\u001b[90m, \u001b[39m2000\u001b[90m, \u001b[39m2000\u001b[90m, \u001b[39m2000\u001b[90m, \u001b[39m2000\u001b[90m, \u001b[39m2000\u001b[90m, \u001b[39m…\n",
      "$ month     \u001b[3m\u001b[90m<int>\u001b[39m\u001b[23m 1\u001b[90m, \u001b[39m2\u001b[90m, \u001b[39m3\u001b[90m, \u001b[39m4\u001b[90m, \u001b[39m5\u001b[90m, \u001b[39m6\u001b[90m, \u001b[39m7\u001b[90m, \u001b[39m8\u001b[90m, \u001b[39m9\u001b[90m, \u001b[39m10\u001b[90m, \u001b[39m11\u001b[90m, \u001b[39m12\u001b[90m, \u001b[39m1\u001b[90m, \u001b[39m2\u001b[90m, \u001b[39m3\u001b[90m, \u001b[39m4\u001b[90m, \u001b[39m5\u001b[90m, \u001b[39m6\u001b[90m, \u001b[39m7\u001b[90m, \u001b[39m…\n",
      "$ sales     \u001b[3m\u001b[90m<dbl>\u001b[39m\u001b[23m 72\u001b[90m, \u001b[39m98\u001b[90m, \u001b[39m130\u001b[90m, \u001b[39m98\u001b[90m, \u001b[39m141\u001b[90m, \u001b[39m156\u001b[90m, \u001b[39m152\u001b[90m, \u001b[39m131\u001b[90m, \u001b[39m104\u001b[90m, \u001b[39m101\u001b[90m, \u001b[39m100\u001b[90m, \u001b[39m92\u001b[90m, \u001b[39m75\u001b[90m, \u001b[39m…\n",
      "$ volume    \u001b[3m\u001b[90m<dbl>\u001b[39m\u001b[23m 5380000\u001b[90m, \u001b[39m6505000\u001b[90m, \u001b[39m9285000\u001b[90m, \u001b[39m9730000\u001b[90m, \u001b[39m10590000\u001b[90m, \u001b[39m13910000\u001b[90m, \u001b[39m1263…\n",
      "$ median    \u001b[3m\u001b[90m<dbl>\u001b[39m\u001b[23m 71400\u001b[90m, \u001b[39m58700\u001b[90m, \u001b[39m58100\u001b[90m, \u001b[39m68600\u001b[90m, \u001b[39m67300\u001b[90m, \u001b[39m66900\u001b[90m, \u001b[39m73500\u001b[90m, \u001b[39m75000\u001b[90m, \u001b[39m6450…\n",
      "$ listings  \u001b[3m\u001b[90m<dbl>\u001b[39m\u001b[23m 701\u001b[90m, \u001b[39m746\u001b[90m, \u001b[39m784\u001b[90m, \u001b[39m785\u001b[90m, \u001b[39m794\u001b[90m, \u001b[39m780\u001b[90m, \u001b[39m742\u001b[90m, \u001b[39m765\u001b[90m, \u001b[39m771\u001b[90m, \u001b[39m764\u001b[90m, \u001b[39m721\u001b[90m, \u001b[39m658\u001b[90m, \u001b[39m…\n",
      "$ inventory \u001b[3m\u001b[90m<dbl>\u001b[39m\u001b[23m 6.3\u001b[90m, \u001b[39m6.6\u001b[90m, \u001b[39m6.8\u001b[90m, \u001b[39m6.9\u001b[90m, \u001b[39m6.8\u001b[90m, \u001b[39m6.6\u001b[90m, \u001b[39m6.2\u001b[90m, \u001b[39m6.4\u001b[90m, \u001b[39m6.5\u001b[90m, \u001b[39m6.6\u001b[90m, \u001b[39m6.2\u001b[90m, \u001b[39m5.7\u001b[90m, \u001b[39m…\n",
      "$ date      \u001b[3m\u001b[90m<dbl>\u001b[39m\u001b[23m 2000.000\u001b[90m, \u001b[39m2000.083\u001b[90m, \u001b[39m2000.167\u001b[90m, \u001b[39m2000.250\u001b[90m, \u001b[39m2000.333\u001b[90m, \u001b[39m2000.417\u001b[90m, \u001b[39m…\n"
     ]
    }
   ],
   "source": [
    "# uncomment the next two lines and execute this cell\n",
    "data(txhousing)\n",
    "glimpse(txhousing)"
   ]
  },
  {
   "cell_type": "markdown",
   "id": "14886b6e-aeb2-41c7-ba8c-e8a56cec6ac5",
   "metadata": {},
   "source": [
    "Write a code chunk to remove the inventory variable. Save the results in a data frame called `txhousing`. Use `glimpse` or `head` to confirm you have removed the variable."
   ]
  },
  {
   "cell_type": "code",
   "execution_count": 10,
   "id": "f98fd4d1-1d20-410f-abc8-4e84f69e4fe9",
   "metadata": {},
   "outputs": [
    {
     "data": {
      "text/html": [
       "<table class=\"dataframe\">\n",
       "<caption>A tibble: 6 × 8</caption>\n",
       "<thead>\n",
       "\t<tr><th scope=col>city</th><th scope=col>year</th><th scope=col>month</th><th scope=col>sales</th><th scope=col>volume</th><th scope=col>median</th><th scope=col>listings</th><th scope=col>date</th></tr>\n",
       "\t<tr><th scope=col>&lt;chr&gt;</th><th scope=col>&lt;int&gt;</th><th scope=col>&lt;int&gt;</th><th scope=col>&lt;dbl&gt;</th><th scope=col>&lt;dbl&gt;</th><th scope=col>&lt;dbl&gt;</th><th scope=col>&lt;dbl&gt;</th><th scope=col>&lt;dbl&gt;</th></tr>\n",
       "</thead>\n",
       "<tbody>\n",
       "\t<tr><td>Abilene</td><td>2000</td><td>1</td><td> 72</td><td> 5380000</td><td>71400</td><td>701</td><td>2000.000</td></tr>\n",
       "\t<tr><td>Abilene</td><td>2000</td><td>2</td><td> 98</td><td> 6505000</td><td>58700</td><td>746</td><td>2000.083</td></tr>\n",
       "\t<tr><td>Abilene</td><td>2000</td><td>3</td><td>130</td><td> 9285000</td><td>58100</td><td>784</td><td>2000.167</td></tr>\n",
       "\t<tr><td>Abilene</td><td>2000</td><td>4</td><td> 98</td><td> 9730000</td><td>68600</td><td>785</td><td>2000.250</td></tr>\n",
       "\t<tr><td>Abilene</td><td>2000</td><td>5</td><td>141</td><td>10590000</td><td>67300</td><td>794</td><td>2000.333</td></tr>\n",
       "\t<tr><td>Abilene</td><td>2000</td><td>6</td><td>156</td><td>13910000</td><td>66900</td><td>780</td><td>2000.417</td></tr>\n",
       "</tbody>\n",
       "</table>\n"
      ],
      "text/latex": [
       "A tibble: 6 × 8\n",
       "\\begin{tabular}{llllllll}\n",
       " city & year & month & sales & volume & median & listings & date\\\\\n",
       " <chr> & <int> & <int> & <dbl> & <dbl> & <dbl> & <dbl> & <dbl>\\\\\n",
       "\\hline\n",
       "\t Abilene & 2000 & 1 &  72 &  5380000 & 71400 & 701 & 2000.000\\\\\n",
       "\t Abilene & 2000 & 2 &  98 &  6505000 & 58700 & 746 & 2000.083\\\\\n",
       "\t Abilene & 2000 & 3 & 130 &  9285000 & 58100 & 784 & 2000.167\\\\\n",
       "\t Abilene & 2000 & 4 &  98 &  9730000 & 68600 & 785 & 2000.250\\\\\n",
       "\t Abilene & 2000 & 5 & 141 & 10590000 & 67300 & 794 & 2000.333\\\\\n",
       "\t Abilene & 2000 & 6 & 156 & 13910000 & 66900 & 780 & 2000.417\\\\\n",
       "\\end{tabular}\n"
      ],
      "text/markdown": [
       "\n",
       "A tibble: 6 × 8\n",
       "\n",
       "| city &lt;chr&gt; | year &lt;int&gt; | month &lt;int&gt; | sales &lt;dbl&gt; | volume &lt;dbl&gt; | median &lt;dbl&gt; | listings &lt;dbl&gt; | date &lt;dbl&gt; |\n",
       "|---|---|---|---|---|---|---|---|\n",
       "| Abilene | 2000 | 1 |  72 |  5380000 | 71400 | 701 | 2000.000 |\n",
       "| Abilene | 2000 | 2 |  98 |  6505000 | 58700 | 746 | 2000.083 |\n",
       "| Abilene | 2000 | 3 | 130 |  9285000 | 58100 | 784 | 2000.167 |\n",
       "| Abilene | 2000 | 4 |  98 |  9730000 | 68600 | 785 | 2000.250 |\n",
       "| Abilene | 2000 | 5 | 141 | 10590000 | 67300 | 794 | 2000.333 |\n",
       "| Abilene | 2000 | 6 | 156 | 13910000 | 66900 | 780 | 2000.417 |\n",
       "\n"
      ],
      "text/plain": [
       "  city    year month sales volume   median listings date    \n",
       "1 Abilene 2000 1      72    5380000 71400  701      2000.000\n",
       "2 Abilene 2000 2      98    6505000 58700  746      2000.083\n",
       "3 Abilene 2000 3     130    9285000 58100  784      2000.167\n",
       "4 Abilene 2000 4      98    9730000 68600  785      2000.250\n",
       "5 Abilene 2000 5     141   10590000 67300  794      2000.333\n",
       "6 Abilene 2000 6     156   13910000 66900  780      2000.417"
      ]
     },
     "metadata": {},
     "output_type": "display_data"
    }
   ],
   "source": [
    "txhousing <- txhousing[!(names(txhousing) == 'inventory')]\n",
    "head(txhousing)"
   ]
  },
  {
   "cell_type": "markdown",
   "id": "505f7765-d874-4708-936b-1e74a8cb8703",
   "metadata": {},
   "source": [
    "Make a data set called `dallas_sub` that includes data only from the city of Dallas in 2012 & 2013."
   ]
  },
  {
   "cell_type": "code",
   "execution_count": 11,
   "id": "ab7cb735-71da-4b82-b79c-e91ce9b53e2f",
   "metadata": {},
   "outputs": [
    {
     "data": {
      "text/html": [
       "<table class=\"dataframe\">\n",
       "<caption>A tibble: 6 × 8</caption>\n",
       "<thead>\n",
       "\t<tr><th scope=col>city</th><th scope=col>year</th><th scope=col>month</th><th scope=col>sales</th><th scope=col>volume</th><th scope=col>median</th><th scope=col>listings</th><th scope=col>date</th></tr>\n",
       "\t<tr><th scope=col>&lt;chr&gt;</th><th scope=col>&lt;int&gt;</th><th scope=col>&lt;int&gt;</th><th scope=col>&lt;dbl&gt;</th><th scope=col>&lt;dbl&gt;</th><th scope=col>&lt;dbl&gt;</th><th scope=col>&lt;dbl&gt;</th><th scope=col>&lt;dbl&gt;</th></tr>\n",
       "</thead>\n",
       "<tbody>\n",
       "\t<tr><td>Dallas</td><td>2012</td><td>1</td><td>2555</td><td> 509458081</td><td>150800</td><td>16721</td><td>2012.000</td></tr>\n",
       "\t<tr><td>Dallas</td><td>2012</td><td>2</td><td>3085</td><td> 634067291</td><td>157100</td><td>17173</td><td>2012.083</td></tr>\n",
       "\t<tr><td>Dallas</td><td>2012</td><td>3</td><td>4068</td><td> 898320563</td><td>167300</td><td>17433</td><td>2012.167</td></tr>\n",
       "\t<tr><td>Dallas</td><td>2012</td><td>4</td><td>4291</td><td> 983333297</td><td>168700</td><td>17632</td><td>2012.250</td></tr>\n",
       "\t<tr><td>Dallas</td><td>2012</td><td>5</td><td>5004</td><td>1175419749</td><td>175100</td><td>17726</td><td>2012.333</td></tr>\n",
       "\t<tr><td>Dallas</td><td>2012</td><td>6</td><td>5196</td><td>1209024869</td><td>177900</td><td>17587</td><td>2012.417</td></tr>\n",
       "</tbody>\n",
       "</table>\n"
      ],
      "text/latex": [
       "A tibble: 6 × 8\n",
       "\\begin{tabular}{llllllll}\n",
       " city & year & month & sales & volume & median & listings & date\\\\\n",
       " <chr> & <int> & <int> & <dbl> & <dbl> & <dbl> & <dbl> & <dbl>\\\\\n",
       "\\hline\n",
       "\t Dallas & 2012 & 1 & 2555 &  509458081 & 150800 & 16721 & 2012.000\\\\\n",
       "\t Dallas & 2012 & 2 & 3085 &  634067291 & 157100 & 17173 & 2012.083\\\\\n",
       "\t Dallas & 2012 & 3 & 4068 &  898320563 & 167300 & 17433 & 2012.167\\\\\n",
       "\t Dallas & 2012 & 4 & 4291 &  983333297 & 168700 & 17632 & 2012.250\\\\\n",
       "\t Dallas & 2012 & 5 & 5004 & 1175419749 & 175100 & 17726 & 2012.333\\\\\n",
       "\t Dallas & 2012 & 6 & 5196 & 1209024869 & 177900 & 17587 & 2012.417\\\\\n",
       "\\end{tabular}\n"
      ],
      "text/markdown": [
       "\n",
       "A tibble: 6 × 8\n",
       "\n",
       "| city &lt;chr&gt; | year &lt;int&gt; | month &lt;int&gt; | sales &lt;dbl&gt; | volume &lt;dbl&gt; | median &lt;dbl&gt; | listings &lt;dbl&gt; | date &lt;dbl&gt; |\n",
       "|---|---|---|---|---|---|---|---|\n",
       "| Dallas | 2012 | 1 | 2555 |  509458081 | 150800 | 16721 | 2012.000 |\n",
       "| Dallas | 2012 | 2 | 3085 |  634067291 | 157100 | 17173 | 2012.083 |\n",
       "| Dallas | 2012 | 3 | 4068 |  898320563 | 167300 | 17433 | 2012.167 |\n",
       "| Dallas | 2012 | 4 | 4291 |  983333297 | 168700 | 17632 | 2012.250 |\n",
       "| Dallas | 2012 | 5 | 5004 | 1175419749 | 175100 | 17726 | 2012.333 |\n",
       "| Dallas | 2012 | 6 | 5196 | 1209024869 | 177900 | 17587 | 2012.417 |\n",
       "\n"
      ],
      "text/plain": [
       "  city   year month sales volume     median listings date    \n",
       "1 Dallas 2012 1     2555   509458081 150800 16721    2012.000\n",
       "2 Dallas 2012 2     3085   634067291 157100 17173    2012.083\n",
       "3 Dallas 2012 3     4068   898320563 167300 17433    2012.167\n",
       "4 Dallas 2012 4     4291   983333297 168700 17632    2012.250\n",
       "5 Dallas 2012 5     5004  1175419749 175100 17726    2012.333\n",
       "6 Dallas 2012 6     5196  1209024869 177900 17587    2012.417"
      ]
     },
     "metadata": {},
     "output_type": "display_data"
    }
   ],
   "source": [
    "dallas_sub <- txhousing |>\n",
    "  filter(\n",
    "    city == 'Dallas',\n",
    "    (year == 2012) | (year == 2013)\n",
    "  )\n",
    "dallas_sub |> head()"
   ]
  },
  {
   "cell_type": "markdown",
   "id": "0caba233-423e-4101-8cf5-5a2da31627b8",
   "metadata": {},
   "source": [
    "Add a column to the `dallas_sub` data set called `prct_sold` that calculates the percentage of listings that were sold (`sales/listings * 100`). Be sure to save the results also as a data frame called `dallas_sub`."
   ]
  },
  {
   "cell_type": "code",
   "execution_count": 12,
   "id": "050843a7-1f70-4354-b88a-d00b6c0a81b3",
   "metadata": {},
   "outputs": [
    {
     "data": {
      "text/html": [
       "<table class=\"dataframe\">\n",
       "<caption>A tibble: 6 × 9</caption>\n",
       "<thead>\n",
       "\t<tr><th scope=col>city</th><th scope=col>year</th><th scope=col>month</th><th scope=col>sales</th><th scope=col>volume</th><th scope=col>median</th><th scope=col>listings</th><th scope=col>date</th><th scope=col>prct_sold</th></tr>\n",
       "\t<tr><th scope=col>&lt;chr&gt;</th><th scope=col>&lt;int&gt;</th><th scope=col>&lt;int&gt;</th><th scope=col>&lt;dbl&gt;</th><th scope=col>&lt;dbl&gt;</th><th scope=col>&lt;dbl&gt;</th><th scope=col>&lt;dbl&gt;</th><th scope=col>&lt;dbl&gt;</th><th scope=col>&lt;dbl&gt;</th></tr>\n",
       "</thead>\n",
       "<tbody>\n",
       "\t<tr><td>Dallas</td><td>2012</td><td>1</td><td>2555</td><td> 509458081</td><td>150800</td><td>16721</td><td>2012.000</td><td>15.28019</td></tr>\n",
       "\t<tr><td>Dallas</td><td>2012</td><td>2</td><td>3085</td><td> 634067291</td><td>157100</td><td>17173</td><td>2012.083</td><td>17.96425</td></tr>\n",
       "\t<tr><td>Dallas</td><td>2012</td><td>3</td><td>4068</td><td> 898320563</td><td>167300</td><td>17433</td><td>2012.167</td><td>23.33505</td></tr>\n",
       "\t<tr><td>Dallas</td><td>2012</td><td>4</td><td>4291</td><td> 983333297</td><td>168700</td><td>17632</td><td>2012.250</td><td>24.33643</td></tr>\n",
       "\t<tr><td>Dallas</td><td>2012</td><td>5</td><td>5004</td><td>1175419749</td><td>175100</td><td>17726</td><td>2012.333</td><td>28.22972</td></tr>\n",
       "\t<tr><td>Dallas</td><td>2012</td><td>6</td><td>5196</td><td>1209024869</td><td>177900</td><td>17587</td><td>2012.417</td><td>29.54455</td></tr>\n",
       "</tbody>\n",
       "</table>\n"
      ],
      "text/latex": [
       "A tibble: 6 × 9\n",
       "\\begin{tabular}{lllllllll}\n",
       " city & year & month & sales & volume & median & listings & date & prct\\_sold\\\\\n",
       " <chr> & <int> & <int> & <dbl> & <dbl> & <dbl> & <dbl> & <dbl> & <dbl>\\\\\n",
       "\\hline\n",
       "\t Dallas & 2012 & 1 & 2555 &  509458081 & 150800 & 16721 & 2012.000 & 15.28019\\\\\n",
       "\t Dallas & 2012 & 2 & 3085 &  634067291 & 157100 & 17173 & 2012.083 & 17.96425\\\\\n",
       "\t Dallas & 2012 & 3 & 4068 &  898320563 & 167300 & 17433 & 2012.167 & 23.33505\\\\\n",
       "\t Dallas & 2012 & 4 & 4291 &  983333297 & 168700 & 17632 & 2012.250 & 24.33643\\\\\n",
       "\t Dallas & 2012 & 5 & 5004 & 1175419749 & 175100 & 17726 & 2012.333 & 28.22972\\\\\n",
       "\t Dallas & 2012 & 6 & 5196 & 1209024869 & 177900 & 17587 & 2012.417 & 29.54455\\\\\n",
       "\\end{tabular}\n"
      ],
      "text/markdown": [
       "\n",
       "A tibble: 6 × 9\n",
       "\n",
       "| city &lt;chr&gt; | year &lt;int&gt; | month &lt;int&gt; | sales &lt;dbl&gt; | volume &lt;dbl&gt; | median &lt;dbl&gt; | listings &lt;dbl&gt; | date &lt;dbl&gt; | prct_sold &lt;dbl&gt; |\n",
       "|---|---|---|---|---|---|---|---|---|\n",
       "| Dallas | 2012 | 1 | 2555 |  509458081 | 150800 | 16721 | 2012.000 | 15.28019 |\n",
       "| Dallas | 2012 | 2 | 3085 |  634067291 | 157100 | 17173 | 2012.083 | 17.96425 |\n",
       "| Dallas | 2012 | 3 | 4068 |  898320563 | 167300 | 17433 | 2012.167 | 23.33505 |\n",
       "| Dallas | 2012 | 4 | 4291 |  983333297 | 168700 | 17632 | 2012.250 | 24.33643 |\n",
       "| Dallas | 2012 | 5 | 5004 | 1175419749 | 175100 | 17726 | 2012.333 | 28.22972 |\n",
       "| Dallas | 2012 | 6 | 5196 | 1209024869 | 177900 | 17587 | 2012.417 | 29.54455 |\n",
       "\n"
      ],
      "text/plain": [
       "  city   year month sales volume     median listings date     prct_sold\n",
       "1 Dallas 2012 1     2555   509458081 150800 16721    2012.000 15.28019 \n",
       "2 Dallas 2012 2     3085   634067291 157100 17173    2012.083 17.96425 \n",
       "3 Dallas 2012 3     4068   898320563 167300 17433    2012.167 23.33505 \n",
       "4 Dallas 2012 4     4291   983333297 168700 17632    2012.250 24.33643 \n",
       "5 Dallas 2012 5     5004  1175419749 175100 17726    2012.333 28.22972 \n",
       "6 Dallas 2012 6     5196  1209024869 177900 17587    2012.417 29.54455 "
      ]
     },
     "metadata": {},
     "output_type": "display_data"
    }
   ],
   "source": [
    "dallas_sub <- dallas_sub |>\n",
    "  mutate(prct_sold = sales / listings * 100)\n",
    "\n",
    "dallas_sub |> head()"
   ]
  },
  {
   "cell_type": "markdown",
   "id": "200cee5a-8921-423a-8c60-164f839816aa",
   "metadata": {},
   "source": [
    "Calculate the average percentage of listings that were sold in Dallas in each month of the year based on your `dallas_sub` data set. Save the results of the calculation in an data frame called `dallas_summary`."
   ]
  },
  {
   "cell_type": "code",
   "execution_count": 13,
   "id": "d16924b4-378d-46a0-b00b-e86633fc48a2",
   "metadata": {},
   "outputs": [
    {
     "name": "stderr",
     "output_type": "stream",
     "text": [
      "\u001b[1m\u001b[22m`summarise()` has grouped output by 'year'. You can override using the `.groups` argument.\n"
     ]
    },
    {
     "data": {
      "text/html": [
       "<table class=\"dataframe\">\n",
       "<caption>A grouped_df: 6 × 3</caption>\n",
       "<thead>\n",
       "\t<tr><th scope=col>year</th><th scope=col>month</th><th scope=col>avg_prct_sold</th></tr>\n",
       "\t<tr><th scope=col>&lt;int&gt;</th><th scope=col>&lt;int&gt;</th><th scope=col>&lt;dbl&gt;</th></tr>\n",
       "</thead>\n",
       "<tbody>\n",
       "\t<tr><td>2012</td><td>1</td><td>15.28019</td></tr>\n",
       "\t<tr><td>2012</td><td>2</td><td>17.96425</td></tr>\n",
       "\t<tr><td>2012</td><td>3</td><td>23.33505</td></tr>\n",
       "\t<tr><td>2012</td><td>4</td><td>24.33643</td></tr>\n",
       "\t<tr><td>2012</td><td>5</td><td>28.22972</td></tr>\n",
       "\t<tr><td>2012</td><td>6</td><td>29.54455</td></tr>\n",
       "</tbody>\n",
       "</table>\n"
      ],
      "text/latex": [
       "A grouped\\_df: 6 × 3\n",
       "\\begin{tabular}{lll}\n",
       " year & month & avg\\_prct\\_sold\\\\\n",
       " <int> & <int> & <dbl>\\\\\n",
       "\\hline\n",
       "\t 2012 & 1 & 15.28019\\\\\n",
       "\t 2012 & 2 & 17.96425\\\\\n",
       "\t 2012 & 3 & 23.33505\\\\\n",
       "\t 2012 & 4 & 24.33643\\\\\n",
       "\t 2012 & 5 & 28.22972\\\\\n",
       "\t 2012 & 6 & 29.54455\\\\\n",
       "\\end{tabular}\n"
      ],
      "text/markdown": [
       "\n",
       "A grouped_df: 6 × 3\n",
       "\n",
       "| year &lt;int&gt; | month &lt;int&gt; | avg_prct_sold &lt;dbl&gt; |\n",
       "|---|---|---|\n",
       "| 2012 | 1 | 15.28019 |\n",
       "| 2012 | 2 | 17.96425 |\n",
       "| 2012 | 3 | 23.33505 |\n",
       "| 2012 | 4 | 24.33643 |\n",
       "| 2012 | 5 | 28.22972 |\n",
       "| 2012 | 6 | 29.54455 |\n",
       "\n"
      ],
      "text/plain": [
       "  year month avg_prct_sold\n",
       "1 2012 1     15.28019     \n",
       "2 2012 2     17.96425     \n",
       "3 2012 3     23.33505     \n",
       "4 2012 4     24.33643     \n",
       "5 2012 5     28.22972     \n",
       "6 2012 6     29.54455     "
      ]
     },
     "metadata": {},
     "output_type": "display_data"
    }
   ],
   "source": [
    "dallas_summary <- dallas_sub |>\n",
    "  group_by(year, month) |>\n",
    "  summarize(avg_prct_sold = sum(sales) / sum(listings) * 100)\n",
    "\n",
    "dallas_summary |> head()"
   ]
  },
  {
   "cell_type": "markdown",
   "id": "52f92165-6346-46af-851f-b3510df8227d",
   "metadata": {},
   "source": [
    "Use `slice_max` to see the top 3 months with the greatest average percentage of listings sold from `dallas_summary`. You do not need to save the results."
   ]
  },
  {
   "cell_type": "code",
   "execution_count": 14,
   "id": "3cdadffb-5190-4d0c-80e9-d8ee7e17cfd7",
   "metadata": {},
   "outputs": [
    {
     "data": {
      "text/html": [
       "<table class=\"dataframe\">\n",
       "<caption>A tibble: 3 × 3</caption>\n",
       "<thead>\n",
       "\t<tr><th scope=col>year</th><th scope=col>month</th><th scope=col>avg_prct_sold</th></tr>\n",
       "\t<tr><th scope=col>&lt;int&gt;</th><th scope=col>&lt;int&gt;</th><th scope=col>&lt;dbl&gt;</th></tr>\n",
       "</thead>\n",
       "<tbody>\n",
       "\t<tr><td>2013</td><td>5</td><td>48.17364</td></tr>\n",
       "\t<tr><td>2013</td><td>7</td><td>46.19657</td></tr>\n",
       "\t<tr><td>2013</td><td>8</td><td>45.34103</td></tr>\n",
       "</tbody>\n",
       "</table>\n"
      ],
      "text/latex": [
       "A tibble: 3 × 3\n",
       "\\begin{tabular}{lll}\n",
       " year & month & avg\\_prct\\_sold\\\\\n",
       " <int> & <int> & <dbl>\\\\\n",
       "\\hline\n",
       "\t 2013 & 5 & 48.17364\\\\\n",
       "\t 2013 & 7 & 46.19657\\\\\n",
       "\t 2013 & 8 & 45.34103\\\\\n",
       "\\end{tabular}\n"
      ],
      "text/markdown": [
       "\n",
       "A tibble: 3 × 3\n",
       "\n",
       "| year &lt;int&gt; | month &lt;int&gt; | avg_prct_sold &lt;dbl&gt; |\n",
       "|---|---|---|\n",
       "| 2013 | 5 | 48.17364 |\n",
       "| 2013 | 7 | 46.19657 |\n",
       "| 2013 | 8 | 45.34103 |\n",
       "\n"
      ],
      "text/plain": [
       "  year month avg_prct_sold\n",
       "1 2013 5     48.17364     \n",
       "2 2013 7     46.19657     \n",
       "3 2013 8     45.34103     "
      ]
     },
     "metadata": {},
     "output_type": "display_data"
    }
   ],
   "source": [
    "dallas_summary |> tibble() |> slice_max(avg_prct_sold, n = 3)"
   ]
  },
  {
   "cell_type": "markdown",
   "id": "61cad110-7858-4245-a8fd-de9a1e6b5dbc",
   "metadata": {},
   "source": [
    "Run the following code chunk. Study the code, and the output. Explain in your own words what this code chunk calculated."
   ]
  },
  {
   "cell_type": "code",
   "execution_count": 15,
   "id": "2d983e66-c2ff-4964-a5a5-442646aeaa46",
   "metadata": {},
   "outputs": [
    {
     "data": {
      "text/html": [
       "<table class=\"dataframe\">\n",
       "<caption>A tibble: 3 × 2</caption>\n",
       "<thead>\n",
       "\t<tr><th scope=col>month</th><th scope=col>mean_prct_sold</th></tr>\n",
       "\t<tr><th scope=col>&lt;int&gt;</th><th scope=col>&lt;dbl&gt;</th></tr>\n",
       "</thead>\n",
       "<tbody>\n",
       "\t<tr><td>8</td><td>38.51543</td></tr>\n",
       "\t<tr><td>5</td><td>38.20168</td></tr>\n",
       "\t<tr><td>6</td><td>37.19150</td></tr>\n",
       "</tbody>\n",
       "</table>\n"
      ],
      "text/latex": [
       "A tibble: 3 × 2\n",
       "\\begin{tabular}{ll}\n",
       " month & mean\\_prct\\_sold\\\\\n",
       " <int> & <dbl>\\\\\n",
       "\\hline\n",
       "\t 8 & 38.51543\\\\\n",
       "\t 5 & 38.20168\\\\\n",
       "\t 6 & 37.19150\\\\\n",
       "\\end{tabular}\n"
      ],
      "text/markdown": [
       "\n",
       "A tibble: 3 × 2\n",
       "\n",
       "| month &lt;int&gt; | mean_prct_sold &lt;dbl&gt; |\n",
       "|---|---|\n",
       "| 8 | 38.51543 |\n",
       "| 5 | 38.20168 |\n",
       "| 6 | 37.19150 |\n",
       "\n"
      ],
      "text/plain": [
       "  month mean_prct_sold\n",
       "1 8     38.51543      \n",
       "2 5     38.20168      \n",
       "3 6     37.19150      "
      ]
     },
     "metadata": {},
     "output_type": "display_data"
    }
   ],
   "source": [
    "txhousing |>\n",
    "  filter(year == 2012 | year == 2013, city == \"Dallas\") |>\n",
    "  mutate(prct_sold = sales/listings *100) |>\n",
    "  group_by(month) |>\n",
    "  summarize(mean_prct_sold = mean(prct_sold)) |>\n",
    "  slice_max(mean_prct_sold, n = 3)"
   ]
  },
  {
   "cell_type": "markdown",
   "id": "f6a22783-8b12-4999-899d-eeee8823ce96",
   "metadata": {},
   "source": [
    "> **Matt's Response:***\n",
    "> \n",
    "> Here's what happens though this process:\n",
    "> \n",
    "> 1. We first by piping the `txhousing` to the next function in the pipeline\n",
    "> 2. The data is filtered with the conditions:\n",
    ">    1. The year must be 2012 OR 2013\n",
    ">    2. The city must be Dallas\n",
    "> 3. The data is split into groups by month\n",
    "> 4. The data is summarized by `mean_prct_sold`, which is calculated as the mean\n",
    ">    of the `prct_sold` field.\n",
    "> 5. The data is sliced to only include the top 3 values of `mean_prct_sold`."
   ]
  }
 ],
 "metadata": {
  "kernelspec": {
   "display_name": "R",
   "language": "R",
   "name": "ir"
  },
  "language_info": {
   "codemirror_mode": "r",
   "file_extension": ".r",
   "mimetype": "text/x-r-source",
   "name": "R",
   "pygments_lexer": "r",
   "version": "4.5.0"
  }
 },
 "nbformat": 4,
 "nbformat_minor": 5
}
